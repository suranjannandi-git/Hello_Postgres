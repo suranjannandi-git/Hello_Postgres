{
 "cells": [
  {
   "cell_type": "code",
   "execution_count": 12,
   "id": "c5af08f4",
   "metadata": {},
   "outputs": [],
   "source": [
    "# %pip install psycopg2-binary==2.9.9"
   ]
  },
  {
   "cell_type": "code",
   "execution_count": 13,
   "id": "5032fc1d",
   "metadata": {},
   "outputs": [],
   "source": [
    "from sqlalchemy import create_engine\n",
    "import psycopg2\n",
    "import pandas as pd "
   ]
  },
  {
   "cell_type": "code",
   "execution_count": 14,
   "id": "47995573",
   "metadata": {},
   "outputs": [],
   "source": [
    "# create postgress connection engine \n",
    "\n",
    "# credentials\n",
    "username = 'citizix_user'\n",
    "password = 'S3cret'\n",
    "host = 'localhost'\n",
    "port = 5432\n",
    "database = 'citizix_db'\n",
    "\n",
    "# Create the connection string\n",
    "connection_string = f'postgresql+psycopg2://{username}:{password}@{host}:{port}/{database}'\n",
    "\n",
    "# Create the engine\n",
    "engine = create_engine(connection_string)"
   ]
  },
  {
   "cell_type": "code",
   "execution_count": 15,
   "id": "76fceabf",
   "metadata": {},
   "outputs": [
    {
     "data": {
      "text/plain": [
       "2"
      ]
     },
     "execution_count": 15,
     "metadata": {},
     "output_type": "execute_result"
    }
   ],
   "source": [
    "# read data from a csv, sanitize the column names and insert into postgres\n",
    "\n",
    "df = pd.read_csv('./sample_data/sample_data.csv')\n",
    "df.columns = df.columns.str.strip().str.lower().str.replace(' ', '_').str.replace('(', '').str.replace(')', '').str.replace('.','_').str.replace('/','').str.replace('&','_n_')\n",
    "\n",
    "# Create/Refresh Postgres tables\n",
    "df.to_sql('sample_data', engine, schema='public', if_exists = 'replace', index=False)"
   ]
  },
  {
   "cell_type": "code",
   "execution_count": 16,
   "id": "72c32c98",
   "metadata": {},
   "outputs": [
    {
     "name": "stdout",
     "output_type": "stream",
     "text": [
      "  student_name    school  passout\n",
      "0   Kumar Rana  KV Lokra     1991\n",
      "1  Kiran Gogai  KV Lokra     1991\n"
     ]
    }
   ],
   "source": [
    "# Execute the query and store results in a DataFrame\n",
    "\n",
    "query = \"SELECT * FROM public.sample_data\"\n",
    "df = pd.read_sql_query(query, engine)\n",
    "print(df)"
   ]
  },
  {
   "cell_type": "code",
   "execution_count": null,
   "id": "61142ee8",
   "metadata": {},
   "outputs": [],
   "source": []
  }
 ],
 "metadata": {
  "kernelspec": {
   "display_name": "Python 3 (ipykernel)",
   "language": "python",
   "name": "python3"
  },
  "language_info": {
   "codemirror_mode": {
    "name": "ipython",
    "version": 3
   },
   "file_extension": ".py",
   "mimetype": "text/x-python",
   "name": "python",
   "nbconvert_exporter": "python",
   "pygments_lexer": "ipython3",
   "version": "3.11.9"
  }
 },
 "nbformat": 4,
 "nbformat_minor": 5
}
